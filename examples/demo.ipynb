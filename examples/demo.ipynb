{
 "cells": [
  {
   "cell_type": "markdown",
   "id": "6388f34a-ebb3-4c86-82c1-a53d753178f3",
   "metadata": {},
   "source": [
    "## How to use the SQL cell\n",
    "\n",
    "When running the extension without specifying a database, the default database is https://www.kaggle.com/datasets/freeman007/world-data/\n",
    "\n",
    "This database contains the following columns:\n",
    "\n",
    "\n",
    "- **Country**: The name of the country.\n",
    "- **Density**: The population density of the country.\n",
    "- **Abbreviation**: The abbreviation or code representing the country.\n",
    "- **AgriculturalLand**: The percentage of land used for agriculture.\n",
    "- **LandArea**: The total land area of the country.\n",
    "- **ArmedForcesSize**: The size of the country's armed forces.\n",
    "- **BirthRate**: The birth rate per population.\n",
    "- **CallingCode**: The international calling code of the country.\n",
    "- **CapitalMajorCity**: The major city serving as the capital.\n",
    "- **Co2-Emissions**: The amount of CO2 emissions produced in the country.\n",
    "- **CPI: The Consumer Price Index**, indicating inflation and cost of living.\n",
    "- **CPIChange**: The change in Consumer Price Index over time.\n",
    "- **Currency-Code**: The code representing the country's currency.\n",
    "- **FertilityRate**: The average number of children per woman.\n",
    "- **Forested Area**: The percentage of land covered by forests.\n",
    "- **Gasoline Price**: The price of gasoline in the country.\n",
    "- **GDP**: Gross Domestic Product, the economic output of the country.\n",
    "- **GrossPrimaryEducationEnrollment**: Enrollment rate in primary education.\n",
    "- **GrossTertiaryEducationEnrollment**: Enrollment rate in tertiary education.\n",
    "- **InfantMortality**: The infant mortality rate.\n",
    "- **LargestCity**: The name of the largest city in the country.\n",
    "- **LifeExpectancy**: The average expected lifespan.\n",
    "- **MaternalMortalityRatio**: The maternal deaths related to childbirth per 100,000 live births.\n",
    "- **MinimumWage**: The minimum wage mandated by the government.\n",
    "- **OfficialLanguage**: The official language(s) spoken in the country.\n",
    "- **OutOfPocketHealthExpenditure**: The share of health expenses paid by individuals.\n",
    "- **PhysiciansPerThousand**: The number of physicians per 1000 people.\n",
    "- **Population**: The total population of the country.\n",
    "- **PopulationLaborForceParticipation**: The percentage of the population in the labor force.\n",
    "- **TaxRevenue**: Government income from taxes.\n",
    "- **TotalTaxRate**: The total tax burden as a percentage of commercial profits.\n",
    "- **UnemploymentRate**: The percentage of unemployed individuals in the labor force.\n",
    "- **Urban_Population**: The population living in urban areas.\n",
    "- **Latitude**: The geographic latitude coordinate.\n",
    "- **Longitude**: The geographic longitude coordinate.\n",
    "\n",
    "\n"
   ]
  },
  {
   "attachments": {
    "31de0b2a-2fda-4b2f-af4b-870da9fbf48d.png": {
     "image/png": "[encoded data removed]"
    },
    "5b281dd0-15b9-4b2f-a0e6-9790259731d1.png": {
     "image/png": "[encoded data removed]"
    }
   },
   "cell_type": "markdown",
   "id": "5121b176-28ad-4927-a22b-e6232a2d241c",
   "metadata": {},
   "source": [
    "To run some SQL query, the cell embedded the query must be converted as SQL cell.\n",
    "\n",
    "- Create a new raw cell and click on the checkbox <img src=attachment:31de0b2a-2fda-4b2f-af4b-870da9fbf48d.png width=100px> in notebook toolbar's widget \n",
    "(the checkbox should now be checked as <img src=attachment:5b281dd0-15b9-4b2f-a0e6-9790259731d1.png width=100px>).\n",
    "- Then you can write an SQL query and run it by using the play button in the widget above.\n",
    "This will create a csv file in a *_sql_ouptut* directory (in the current working directory)."
   ]
  },
  {
   "cell_type": "raw",
   "id": "43141ba3-233e-428b-9872-15b2c9e24df1",
   "metadata": {
    "format": "application/sql"
   },
   "source": [
    "-- QUERY EXAMPLE\n",
    "\n",
    "SELECT Country, Population FROM world ORDER BY CAST(Population AS INTEGER) DESC"
   ]
  }
 ],
 "metadata": {
  "kernelspec": {
   "display_name": "Python 3 (ipykernel)",
   "language": "python",
   "name": "python3"
  },
  "language_info": {
   "codemirror_mode": {
    "name": "ipython",
    "version": 3
   },
   "file_extension": ".py",
   "mimetype": "text/x-python",
   "name": "python",
   "nbconvert_exporter": "python",
   "pygments_lexer": "ipython3",
   "version": "3.11.5"
  }
 },
 "nbformat": 4,
 "nbformat_minor": 5
}
