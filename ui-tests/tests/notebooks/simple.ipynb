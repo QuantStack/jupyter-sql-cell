{
 "cells": [
  {
   "cell_type": "code",
   "execution_count": null,
   "id": "2a79d48a-cef6-4bf6-889d-7632a437c4ab",
   "metadata": {},
   "outputs": [],
   "source": []
  },
  {
   "cell_type": "markdown",
   "id": "87d659fd-2948-40c1-9d81-c8487fe6fca6",
   "metadata": {},
   "source": []
  },
  {
   "cell_type": "raw",
   "id": "96303dc7-9bce-4eea-8407-02dadea2baab",
   "metadata": {},
   "source": []
  }
 ],
 "metadata": {
  "kernelspec": {
   "display_name": "Python 3 (ipykernel)",
   "language": "python",
   "name": "python3"
  },
  "language_info": {
   "codemirror_mode": {
    "name": "ipython",
    "version": 3
   },
   "file_extension": ".py",
   "mimetype": "text/x-python",
   "name": "python",
   "nbconvert_exporter": "python",
   "pygments_lexer": "ipython3",
   "version": "3.11.5"
  }
 },
 "nbformat": 4,
 "nbformat_minor": 5
}
